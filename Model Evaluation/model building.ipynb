{
 "cells": [
  {
   "cell_type": "code",
   "execution_count": 3,
   "metadata": {},
   "outputs": [],
   "source": [
    "import pandas as pd\n",
    "import numpy as np\n",
    "import matplotlib.pyplot as plt\n",
    "import seaborn as sns\n",
    "sns.set()\n",
    "\n",
    "## for feature slection\n",
    "\n",
    "from sklearn.linear_model import Lasso\n",
    "from sklearn.feature_selection import SelectFromModel\n",
    "\n",
    "# to visualise al the columns in the dataframe\n",
    "pd.pandas.set_option('display.max_columns', None)"
   ]
  },
  {
   "cell_type": "markdown",
   "metadata": {},
   "source": [
    "### Before model building we have to do Feature selection and remove highly correlated features"
   ]
  },
  {
   "cell_type": "code",
   "execution_count": 4,
   "metadata": {},
   "outputs": [
    {
     "data": {
      "text/html": [
       "<div>\n",
       "<style scoped>\n",
       "    .dataframe tbody tr th:only-of-type {\n",
       "        vertical-align: middle;\n",
       "    }\n",
       "\n",
       "    .dataframe tbody tr th {\n",
       "        vertical-align: top;\n",
       "    }\n",
       "\n",
       "    .dataframe thead th {\n",
       "        text-align: right;\n",
       "    }\n",
       "</style>\n",
       "<table border=\"1\" class=\"dataframe\">\n",
       "  <thead>\n",
       "    <tr style=\"text-align: right;\">\n",
       "      <th></th>\n",
       "      <th>id</th>\n",
       "      <th>churn</th>\n",
       "      <th>activity_new</th>\n",
       "      <th>channel_sales</th>\n",
       "      <th>cons_12m</th>\n",
       "      <th>cons_gas_12m</th>\n",
       "      <th>cons_last_month</th>\n",
       "      <th>forecast_cons_12m</th>\n",
       "      <th>forecast_discount_energy</th>\n",
       "      <th>forecast_meter_rent_12m</th>\n",
       "      <th>forecast_price_energy_p1</th>\n",
       "      <th>forecast_price_energy_p2</th>\n",
       "      <th>forecast_price_pow_p1</th>\n",
       "      <th>has_gas</th>\n",
       "      <th>imp_cons</th>\n",
       "      <th>margin_gross_pow_ele</th>\n",
       "      <th>margin_net_pow_ele</th>\n",
       "      <th>nb_prod_act</th>\n",
       "      <th>net_margin</th>\n",
       "      <th>origin_up</th>\n",
       "      <th>pow_max</th>\n",
       "      <th>forecast_discount_energy_nan</th>\n",
       "      <th>forecast_price_energy_p1_nan</th>\n",
       "      <th>forecast_price_energy_p2_nan</th>\n",
       "      <th>forecast_price_pow_p1_nan</th>\n",
       "      <th>margin_gross_pow_ele_nan</th>\n",
       "      <th>margin_net_pow_ele_nan</th>\n",
       "      <th>net_margin_nan</th>\n",
       "      <th>pow_max_nan</th>\n",
       "      <th>Length Of Contract (Year)</th>\n",
       "    </tr>\n",
       "  </thead>\n",
       "  <tbody>\n",
       "    <tr>\n",
       "      <th>0</th>\n",
       "      <td>48ada52261e7cf58715202705a0451c9</td>\n",
       "      <td>0</td>\n",
       "      <td>1.0</td>\n",
       "      <td>-1.000000</td>\n",
       "      <td>1.413248</td>\n",
       "      <td>0.000000</td>\n",
       "      <td>0.289269</td>\n",
       "      <td>1.991987</td>\n",
       "      <td>0.0</td>\n",
       "      <td>1.406780</td>\n",
       "      <td>-1.530329</td>\n",
       "      <td>0.022097</td>\n",
       "      <td>3.963793</td>\n",
       "      <td>0.0</td>\n",
       "      <td>0.539450</td>\n",
       "      <td>0.000000</td>\n",
       "      <td>0.000000</td>\n",
       "      <td>0.0</td>\n",
       "      <td>0.378568</td>\n",
       "      <td>0.0</td>\n",
       "      <td>0.622746</td>\n",
       "      <td>0.0</td>\n",
       "      <td>0.0</td>\n",
       "      <td>0.0</td>\n",
       "      <td>0.0</td>\n",
       "      <td>0.0</td>\n",
       "      <td>0.0</td>\n",
       "      <td>0.0</td>\n",
       "      <td>0.0</td>\n",
       "      <td>-0.333333</td>\n",
       "    </tr>\n",
       "    <tr>\n",
       "      <th>1</th>\n",
       "      <td>24011ae4ebbe3035111d65fa7c15bc57</td>\n",
       "      <td>1</td>\n",
       "      <td>0.0</td>\n",
       "      <td>0.333333</td>\n",
       "      <td>0.132764</td>\n",
       "      <td>4.739944</td>\n",
       "      <td>-0.817317</td>\n",
       "      <td>0.000000</td>\n",
       "      <td>0.0</td>\n",
       "      <td>-0.978104</td>\n",
       "      <td>-0.924658</td>\n",
       "      <td>0.121200</td>\n",
       "      <td>-1.000000</td>\n",
       "      <td>1.0</td>\n",
       "      <td>-0.708312</td>\n",
       "      <td>0.313853</td>\n",
       "      <td>0.322511</td>\n",
       "      <td>1.0</td>\n",
       "      <td>2.658602</td>\n",
       "      <td>0.5</td>\n",
       "      <td>4.081096</td>\n",
       "      <td>0.0</td>\n",
       "      <td>0.0</td>\n",
       "      <td>0.0</td>\n",
       "      <td>0.0</td>\n",
       "      <td>0.0</td>\n",
       "      <td>0.0</td>\n",
       "      <td>0.0</td>\n",
       "      <td>0.0</td>\n",
       "      <td>-0.666667</td>\n",
       "    </tr>\n",
       "    <tr>\n",
       "      <th>2</th>\n",
       "      <td>d29c2c54acc38ff3c0614d0a653813dd</td>\n",
       "      <td>0</td>\n",
       "      <td>0.0</td>\n",
       "      <td>-0.666667</td>\n",
       "      <td>-0.591831</td>\n",
       "      <td>0.000000</td>\n",
       "      <td>-0.817317</td>\n",
       "      <td>-1.198750</td>\n",
       "      <td>0.0</td>\n",
       "      <td>-0.082621</td>\n",
       "      <td>0.094365</td>\n",
       "      <td>-0.871769</td>\n",
       "      <td>0.000000</td>\n",
       "      <td>0.0</td>\n",
       "      <td>-0.708312</td>\n",
       "      <td>-0.339827</td>\n",
       "      <td>-0.331169</td>\n",
       "      <td>0.0</td>\n",
       "      <td>-0.479091</td>\n",
       "      <td>-0.5</td>\n",
       "      <td>-0.007671</td>\n",
       "      <td>0.0</td>\n",
       "      <td>0.0</td>\n",
       "      <td>0.0</td>\n",
       "      <td>0.0</td>\n",
       "      <td>0.0</td>\n",
       "      <td>0.0</td>\n",
       "      <td>0.0</td>\n",
       "      <td>0.0</td>\n",
       "      <td>0.666667</td>\n",
       "    </tr>\n",
       "    <tr>\n",
       "      <th>3</th>\n",
       "      <td>764c75f661154dac3a6c254cd082ea7d</td>\n",
       "      <td>0</td>\n",
       "      <td>0.0</td>\n",
       "      <td>0.333333</td>\n",
       "      <td>-1.617646</td>\n",
       "      <td>0.000000</td>\n",
       "      <td>-0.817317</td>\n",
       "      <td>-2.078946</td>\n",
       "      <td>0.0</td>\n",
       "      <td>0.325714</td>\n",
       "      <td>0.749666</td>\n",
       "      <td>0.017564</td>\n",
       "      <td>0.000000</td>\n",
       "      <td>0.0</td>\n",
       "      <td>-0.708312</td>\n",
       "      <td>0.541847</td>\n",
       "      <td>0.550505</td>\n",
       "      <td>0.0</td>\n",
       "      <td>-0.537510</td>\n",
       "      <td>-0.5</td>\n",
       "      <td>0.000000</td>\n",
       "      <td>0.0</td>\n",
       "      <td>0.0</td>\n",
       "      <td>0.0</td>\n",
       "      <td>0.0</td>\n",
       "      <td>0.0</td>\n",
       "      <td>0.0</td>\n",
       "      <td>0.0</td>\n",
       "      <td>0.0</td>\n",
       "      <td>0.333333</td>\n",
       "    </tr>\n",
       "    <tr>\n",
       "      <th>4</th>\n",
       "      <td>bba03439a292a1e166f80264c16191cb</td>\n",
       "      <td>0</td>\n",
       "      <td>0.0</td>\n",
       "      <td>-1.000000</td>\n",
       "      <td>-1.107389</td>\n",
       "      <td>0.000000</td>\n",
       "      <td>-0.817317</td>\n",
       "      <td>-1.048095</td>\n",
       "      <td>0.0</td>\n",
       "      <td>0.009266</td>\n",
       "      <td>0.126440</td>\n",
       "      <td>-0.871769</td>\n",
       "      <td>0.000000</td>\n",
       "      <td>0.0</td>\n",
       "      <td>-0.708312</td>\n",
       "      <td>0.658730</td>\n",
       "      <td>0.667388</td>\n",
       "      <td>0.0</td>\n",
       "      <td>-0.447862</td>\n",
       "      <td>-0.5</td>\n",
       "      <td>-0.089863</td>\n",
       "      <td>0.0</td>\n",
       "      <td>0.0</td>\n",
       "      <td>0.0</td>\n",
       "      <td>0.0</td>\n",
       "      <td>0.0</td>\n",
       "      <td>0.0</td>\n",
       "      <td>0.0</td>\n",
       "      <td>0.0</td>\n",
       "      <td>0.333333</td>\n",
       "    </tr>\n",
       "  </tbody>\n",
       "</table>\n",
       "</div>"
      ],
      "text/plain": [
       "                                 id  churn  activity_new  channel_sales  \\\n",
       "0  48ada52261e7cf58715202705a0451c9      0           1.0      -1.000000   \n",
       "1  24011ae4ebbe3035111d65fa7c15bc57      1           0.0       0.333333   \n",
       "2  d29c2c54acc38ff3c0614d0a653813dd      0           0.0      -0.666667   \n",
       "3  764c75f661154dac3a6c254cd082ea7d      0           0.0       0.333333   \n",
       "4  bba03439a292a1e166f80264c16191cb      0           0.0      -1.000000   \n",
       "\n",
       "   cons_12m  cons_gas_12m  cons_last_month  forecast_cons_12m  \\\n",
       "0  1.413248      0.000000         0.289269           1.991987   \n",
       "1  0.132764      4.739944        -0.817317           0.000000   \n",
       "2 -0.591831      0.000000        -0.817317          -1.198750   \n",
       "3 -1.617646      0.000000        -0.817317          -2.078946   \n",
       "4 -1.107389      0.000000        -0.817317          -1.048095   \n",
       "\n",
       "   forecast_discount_energy  forecast_meter_rent_12m  \\\n",
       "0                       0.0                 1.406780   \n",
       "1                       0.0                -0.978104   \n",
       "2                       0.0                -0.082621   \n",
       "3                       0.0                 0.325714   \n",
       "4                       0.0                 0.009266   \n",
       "\n",
       "   forecast_price_energy_p1  forecast_price_energy_p2  forecast_price_pow_p1  \\\n",
       "0                 -1.530329                  0.022097               3.963793   \n",
       "1                 -0.924658                  0.121200              -1.000000   \n",
       "2                  0.094365                 -0.871769               0.000000   \n",
       "3                  0.749666                  0.017564               0.000000   \n",
       "4                  0.126440                 -0.871769               0.000000   \n",
       "\n",
       "   has_gas  imp_cons  margin_gross_pow_ele  margin_net_pow_ele  nb_prod_act  \\\n",
       "0      0.0  0.539450              0.000000            0.000000          0.0   \n",
       "1      1.0 -0.708312              0.313853            0.322511          1.0   \n",
       "2      0.0 -0.708312             -0.339827           -0.331169          0.0   \n",
       "3      0.0 -0.708312              0.541847            0.550505          0.0   \n",
       "4      0.0 -0.708312              0.658730            0.667388          0.0   \n",
       "\n",
       "   net_margin  origin_up   pow_max  forecast_discount_energy_nan  \\\n",
       "0    0.378568        0.0  0.622746                           0.0   \n",
       "1    2.658602        0.5  4.081096                           0.0   \n",
       "2   -0.479091       -0.5 -0.007671                           0.0   \n",
       "3   -0.537510       -0.5  0.000000                           0.0   \n",
       "4   -0.447862       -0.5 -0.089863                           0.0   \n",
       "\n",
       "   forecast_price_energy_p1_nan  forecast_price_energy_p2_nan  \\\n",
       "0                           0.0                           0.0   \n",
       "1                           0.0                           0.0   \n",
       "2                           0.0                           0.0   \n",
       "3                           0.0                           0.0   \n",
       "4                           0.0                           0.0   \n",
       "\n",
       "   forecast_price_pow_p1_nan  margin_gross_pow_ele_nan  \\\n",
       "0                        0.0                       0.0   \n",
       "1                        0.0                       0.0   \n",
       "2                        0.0                       0.0   \n",
       "3                        0.0                       0.0   \n",
       "4                        0.0                       0.0   \n",
       "\n",
       "   margin_net_pow_ele_nan  net_margin_nan  pow_max_nan  \\\n",
       "0                     0.0             0.0          0.0   \n",
       "1                     0.0             0.0          0.0   \n",
       "2                     0.0             0.0          0.0   \n",
       "3                     0.0             0.0          0.0   \n",
       "4                     0.0             0.0          0.0   \n",
       "\n",
       "   Length Of Contract (Year)  \n",
       "0                  -0.333333  \n",
       "1                  -0.666667  \n",
       "2                   0.666667  \n",
       "3                   0.333333  \n",
       "4                   0.333333  "
      ]
     },
     "execution_count": 4,
     "metadata": {},
     "output_type": "execute_result"
    }
   ],
   "source": [
    "train = pd.read_csv(\"train_data_scaled.csv\")\n",
    "train.head()"
   ]
  },
  {
   "cell_type": "code",
   "execution_count": 5,
   "metadata": {},
   "outputs": [],
   "source": [
    "y_train = train[\"churn\"]\n",
    "x_train = train.drop(['id', 'churn'], axis=1)"
   ]
  },
  {
   "cell_type": "code",
   "execution_count": 21,
   "metadata": {},
   "outputs": [
    {
     "data": {
      "text/html": [
       "<div>\n",
       "<style scoped>\n",
       "    .dataframe tbody tr th:only-of-type {\n",
       "        vertical-align: middle;\n",
       "    }\n",
       "\n",
       "    .dataframe tbody tr th {\n",
       "        vertical-align: top;\n",
       "    }\n",
       "\n",
       "    .dataframe thead th {\n",
       "        text-align: right;\n",
       "    }\n",
       "</style>\n",
       "<table border=\"1\" class=\"dataframe\">\n",
       "  <thead>\n",
       "    <tr style=\"text-align: right;\">\n",
       "      <th></th>\n",
       "      <th>activity_new</th>\n",
       "      <th>channel_sales</th>\n",
       "      <th>cons_12m</th>\n",
       "      <th>cons_gas_12m</th>\n",
       "      <th>cons_last_month</th>\n",
       "      <th>forecast_cons_12m</th>\n",
       "      <th>forecast_discount_energy</th>\n",
       "      <th>forecast_meter_rent_12m</th>\n",
       "      <th>forecast_price_energy_p1</th>\n",
       "      <th>forecast_price_energy_p2</th>\n",
       "      <th>forecast_price_pow_p1</th>\n",
       "      <th>has_gas</th>\n",
       "      <th>imp_cons</th>\n",
       "      <th>margin_gross_pow_ele</th>\n",
       "      <th>margin_net_pow_ele</th>\n",
       "      <th>nb_prod_act</th>\n",
       "      <th>net_margin</th>\n",
       "      <th>origin_up</th>\n",
       "      <th>pow_max</th>\n",
       "      <th>forecast_discount_energy_nan</th>\n",
       "      <th>forecast_price_energy_p1_nan</th>\n",
       "      <th>forecast_price_energy_p2_nan</th>\n",
       "      <th>forecast_price_pow_p1_nan</th>\n",
       "      <th>margin_gross_pow_ele_nan</th>\n",
       "      <th>margin_net_pow_ele_nan</th>\n",
       "      <th>net_margin_nan</th>\n",
       "      <th>pow_max_nan</th>\n",
       "      <th>Length Of Contract (Year)</th>\n",
       "    </tr>\n",
       "  </thead>\n",
       "  <tbody>\n",
       "    <tr>\n",
       "      <th>0</th>\n",
       "      <td>1.0</td>\n",
       "      <td>-1.000000</td>\n",
       "      <td>1.413248</td>\n",
       "      <td>0.000000</td>\n",
       "      <td>0.289269</td>\n",
       "      <td>1.991987</td>\n",
       "      <td>0.0</td>\n",
       "      <td>1.406780</td>\n",
       "      <td>-1.530329</td>\n",
       "      <td>0.022097</td>\n",
       "      <td>3.963793</td>\n",
       "      <td>0.0</td>\n",
       "      <td>0.539450</td>\n",
       "      <td>0.000000</td>\n",
       "      <td>0.000000</td>\n",
       "      <td>0.0</td>\n",
       "      <td>0.378568</td>\n",
       "      <td>0.0</td>\n",
       "      <td>0.622746</td>\n",
       "      <td>0.0</td>\n",
       "      <td>0.0</td>\n",
       "      <td>0.0</td>\n",
       "      <td>0.0</td>\n",
       "      <td>0.0</td>\n",
       "      <td>0.0</td>\n",
       "      <td>0.0</td>\n",
       "      <td>0.0</td>\n",
       "      <td>-0.333333</td>\n",
       "    </tr>\n",
       "    <tr>\n",
       "      <th>1</th>\n",
       "      <td>0.0</td>\n",
       "      <td>0.333333</td>\n",
       "      <td>0.132764</td>\n",
       "      <td>4.739944</td>\n",
       "      <td>-0.817317</td>\n",
       "      <td>0.000000</td>\n",
       "      <td>0.0</td>\n",
       "      <td>-0.978104</td>\n",
       "      <td>-0.924658</td>\n",
       "      <td>0.121200</td>\n",
       "      <td>-1.000000</td>\n",
       "      <td>1.0</td>\n",
       "      <td>-0.708312</td>\n",
       "      <td>0.313853</td>\n",
       "      <td>0.322511</td>\n",
       "      <td>1.0</td>\n",
       "      <td>2.658602</td>\n",
       "      <td>0.5</td>\n",
       "      <td>4.081096</td>\n",
       "      <td>0.0</td>\n",
       "      <td>0.0</td>\n",
       "      <td>0.0</td>\n",
       "      <td>0.0</td>\n",
       "      <td>0.0</td>\n",
       "      <td>0.0</td>\n",
       "      <td>0.0</td>\n",
       "      <td>0.0</td>\n",
       "      <td>-0.666667</td>\n",
       "    </tr>\n",
       "    <tr>\n",
       "      <th>2</th>\n",
       "      <td>0.0</td>\n",
       "      <td>-0.666667</td>\n",
       "      <td>-0.591831</td>\n",
       "      <td>0.000000</td>\n",
       "      <td>-0.817317</td>\n",
       "      <td>-1.198750</td>\n",
       "      <td>0.0</td>\n",
       "      <td>-0.082621</td>\n",
       "      <td>0.094365</td>\n",
       "      <td>-0.871769</td>\n",
       "      <td>0.000000</td>\n",
       "      <td>0.0</td>\n",
       "      <td>-0.708312</td>\n",
       "      <td>-0.339827</td>\n",
       "      <td>-0.331169</td>\n",
       "      <td>0.0</td>\n",
       "      <td>-0.479091</td>\n",
       "      <td>-0.5</td>\n",
       "      <td>-0.007671</td>\n",
       "      <td>0.0</td>\n",
       "      <td>0.0</td>\n",
       "      <td>0.0</td>\n",
       "      <td>0.0</td>\n",
       "      <td>0.0</td>\n",
       "      <td>0.0</td>\n",
       "      <td>0.0</td>\n",
       "      <td>0.0</td>\n",
       "      <td>0.666667</td>\n",
       "    </tr>\n",
       "    <tr>\n",
       "      <th>3</th>\n",
       "      <td>0.0</td>\n",
       "      <td>0.333333</td>\n",
       "      <td>-1.617646</td>\n",
       "      <td>0.000000</td>\n",
       "      <td>-0.817317</td>\n",
       "      <td>-2.078946</td>\n",
       "      <td>0.0</td>\n",
       "      <td>0.325714</td>\n",
       "      <td>0.749666</td>\n",
       "      <td>0.017564</td>\n",
       "      <td>0.000000</td>\n",
       "      <td>0.0</td>\n",
       "      <td>-0.708312</td>\n",
       "      <td>0.541847</td>\n",
       "      <td>0.550505</td>\n",
       "      <td>0.0</td>\n",
       "      <td>-0.537510</td>\n",
       "      <td>-0.5</td>\n",
       "      <td>0.000000</td>\n",
       "      <td>0.0</td>\n",
       "      <td>0.0</td>\n",
       "      <td>0.0</td>\n",
       "      <td>0.0</td>\n",
       "      <td>0.0</td>\n",
       "      <td>0.0</td>\n",
       "      <td>0.0</td>\n",
       "      <td>0.0</td>\n",
       "      <td>0.333333</td>\n",
       "    </tr>\n",
       "    <tr>\n",
       "      <th>4</th>\n",
       "      <td>0.0</td>\n",
       "      <td>-1.000000</td>\n",
       "      <td>-1.107389</td>\n",
       "      <td>0.000000</td>\n",
       "      <td>-0.817317</td>\n",
       "      <td>-1.048095</td>\n",
       "      <td>0.0</td>\n",
       "      <td>0.009266</td>\n",
       "      <td>0.126440</td>\n",
       "      <td>-0.871769</td>\n",
       "      <td>0.000000</td>\n",
       "      <td>0.0</td>\n",
       "      <td>-0.708312</td>\n",
       "      <td>0.658730</td>\n",
       "      <td>0.667388</td>\n",
       "      <td>0.0</td>\n",
       "      <td>-0.447862</td>\n",
       "      <td>-0.5</td>\n",
       "      <td>-0.089863</td>\n",
       "      <td>0.0</td>\n",
       "      <td>0.0</td>\n",
       "      <td>0.0</td>\n",
       "      <td>0.0</td>\n",
       "      <td>0.0</td>\n",
       "      <td>0.0</td>\n",
       "      <td>0.0</td>\n",
       "      <td>0.0</td>\n",
       "      <td>0.333333</td>\n",
       "    </tr>\n",
       "    <tr>\n",
       "      <th>...</th>\n",
       "      <td>...</td>\n",
       "      <td>...</td>\n",
       "      <td>...</td>\n",
       "      <td>...</td>\n",
       "      <td>...</td>\n",
       "      <td>...</td>\n",
       "      <td>...</td>\n",
       "      <td>...</td>\n",
       "      <td>...</td>\n",
       "      <td>...</td>\n",
       "      <td>...</td>\n",
       "      <td>...</td>\n",
       "      <td>...</td>\n",
       "      <td>...</td>\n",
       "      <td>...</td>\n",
       "      <td>...</td>\n",
       "      <td>...</td>\n",
       "      <td>...</td>\n",
       "      <td>...</td>\n",
       "      <td>...</td>\n",
       "      <td>...</td>\n",
       "      <td>...</td>\n",
       "      <td>...</td>\n",
       "      <td>...</td>\n",
       "      <td>...</td>\n",
       "      <td>...</td>\n",
       "      <td>...</td>\n",
       "      <td>...</td>\n",
       "    </tr>\n",
       "    <tr>\n",
       "      <th>16091</th>\n",
       "      <td>0.0</td>\n",
       "      <td>0.333333</td>\n",
       "      <td>0.333009</td>\n",
       "      <td>4.680707</td>\n",
       "      <td>-0.817317</td>\n",
       "      <td>0.865850</td>\n",
       "      <td>0.0</td>\n",
       "      <td>-0.021325</td>\n",
       "      <td>-0.147290</td>\n",
       "      <td>-0.871769</td>\n",
       "      <td>0.000000</td>\n",
       "      <td>1.0</td>\n",
       "      <td>-0.708312</td>\n",
       "      <td>0.489899</td>\n",
       "      <td>0.498557</td>\n",
       "      <td>1.0</td>\n",
       "      <td>1.245808</td>\n",
       "      <td>0.5</td>\n",
       "      <td>0.156712</td>\n",
       "      <td>0.0</td>\n",
       "      <td>0.0</td>\n",
       "      <td>0.0</td>\n",
       "      <td>0.0</td>\n",
       "      <td>0.0</td>\n",
       "      <td>0.0</td>\n",
       "      <td>0.0</td>\n",
       "      <td>0.0</td>\n",
       "      <td>-0.333333</td>\n",
       "    </tr>\n",
       "    <tr>\n",
       "      <th>16092</th>\n",
       "      <td>0.0</td>\n",
       "      <td>0.333333</td>\n",
       "      <td>-0.382395</td>\n",
       "      <td>0.000000</td>\n",
       "      <td>-0.192253</td>\n",
       "      <td>-0.423995</td>\n",
       "      <td>0.0</td>\n",
       "      <td>0.960652</td>\n",
       "      <td>-1.391719</td>\n",
       "      <td>0.057964</td>\n",
       "      <td>3.963793</td>\n",
       "      <td>0.0</td>\n",
       "      <td>-0.183275</td>\n",
       "      <td>-1.521645</td>\n",
       "      <td>-1.512987</td>\n",
       "      <td>0.0</td>\n",
       "      <td>-0.139464</td>\n",
       "      <td>0.5</td>\n",
       "      <td>-1.076164</td>\n",
       "      <td>0.0</td>\n",
       "      <td>0.0</td>\n",
       "      <td>0.0</td>\n",
       "      <td>0.0</td>\n",
       "      <td>0.0</td>\n",
       "      <td>0.0</td>\n",
       "      <td>0.0</td>\n",
       "      <td>0.0</td>\n",
       "      <td>-0.333333</td>\n",
       "    </tr>\n",
       "    <tr>\n",
       "      <th>16093</th>\n",
       "      <td>0.0</td>\n",
       "      <td>0.333333</td>\n",
       "      <td>-1.034788</td>\n",
       "      <td>0.000000</td>\n",
       "      <td>-0.193580</td>\n",
       "      <td>-1.197261</td>\n",
       "      <td>0.0</td>\n",
       "      <td>0.909272</td>\n",
       "      <td>-0.845727</td>\n",
       "      <td>0.140150</td>\n",
       "      <td>-1.000000</td>\n",
       "      <td>0.0</td>\n",
       "      <td>-0.161494</td>\n",
       "      <td>1.352814</td>\n",
       "      <td>1.361472</td>\n",
       "      <td>0.0</td>\n",
       "      <td>-0.472009</td>\n",
       "      <td>0.5</td>\n",
       "      <td>0.284795</td>\n",
       "      <td>0.0</td>\n",
       "      <td>0.0</td>\n",
       "      <td>0.0</td>\n",
       "      <td>0.0</td>\n",
       "      <td>0.0</td>\n",
       "      <td>0.0</td>\n",
       "      <td>0.0</td>\n",
       "      <td>0.0</td>\n",
       "      <td>-0.333333</td>\n",
       "    </tr>\n",
       "    <tr>\n",
       "      <th>16094</th>\n",
       "      <td>0.0</td>\n",
       "      <td>0.333333</td>\n",
       "      <td>-2.295398</td>\n",
       "      <td>0.000000</td>\n",
       "      <td>-0.817317</td>\n",
       "      <td>-2.647038</td>\n",
       "      <td>0.0</td>\n",
       "      <td>-0.448987</td>\n",
       "      <td>0.094365</td>\n",
       "      <td>-0.871769</td>\n",
       "      <td>0.000000</td>\n",
       "      <td>0.0</td>\n",
       "      <td>-0.708312</td>\n",
       "      <td>-0.577922</td>\n",
       "      <td>-0.569264</td>\n",
       "      <td>0.0</td>\n",
       "      <td>-0.564319</td>\n",
       "      <td>0.5</td>\n",
       "      <td>-0.391233</td>\n",
       "      <td>0.0</td>\n",
       "      <td>0.0</td>\n",
       "      <td>0.0</td>\n",
       "      <td>0.0</td>\n",
       "      <td>0.0</td>\n",
       "      <td>0.0</td>\n",
       "      <td>0.0</td>\n",
       "      <td>0.0</td>\n",
       "      <td>-0.333333</td>\n",
       "    </tr>\n",
       "    <tr>\n",
       "      <th>16095</th>\n",
       "      <td>0.0</td>\n",
       "      <td>-0.666667</td>\n",
       "      <td>-0.291834</td>\n",
       "      <td>0.000000</td>\n",
       "      <td>-0.817317</td>\n",
       "      <td>-0.302530</td>\n",
       "      <td>0.0</td>\n",
       "      <td>-1.122685</td>\n",
       "      <td>0.791823</td>\n",
       "      <td>0.023180</td>\n",
       "      <td>0.269929</td>\n",
       "      <td>0.0</td>\n",
       "      <td>-0.708312</td>\n",
       "      <td>-0.667388</td>\n",
       "      <td>-0.658730</td>\n",
       "      <td>0.0</td>\n",
       "      <td>-0.110943</td>\n",
       "      <td>0.0</td>\n",
       "      <td>-0.474521</td>\n",
       "      <td>0.0</td>\n",
       "      <td>0.0</td>\n",
       "      <td>0.0</td>\n",
       "      <td>0.0</td>\n",
       "      <td>0.0</td>\n",
       "      <td>0.0</td>\n",
       "      <td>0.0</td>\n",
       "      <td>0.0</td>\n",
       "      <td>0.666667</td>\n",
       "    </tr>\n",
       "  </tbody>\n",
       "</table>\n",
       "<p>16096 rows × 28 columns</p>\n",
       "</div>"
      ],
      "text/plain": [
       "       activity_new  channel_sales  cons_12m  cons_gas_12m  cons_last_month  \\\n",
       "0               1.0      -1.000000  1.413248      0.000000         0.289269   \n",
       "1               0.0       0.333333  0.132764      4.739944        -0.817317   \n",
       "2               0.0      -0.666667 -0.591831      0.000000        -0.817317   \n",
       "3               0.0       0.333333 -1.617646      0.000000        -0.817317   \n",
       "4               0.0      -1.000000 -1.107389      0.000000        -0.817317   \n",
       "...             ...            ...       ...           ...              ...   \n",
       "16091           0.0       0.333333  0.333009      4.680707        -0.817317   \n",
       "16092           0.0       0.333333 -0.382395      0.000000        -0.192253   \n",
       "16093           0.0       0.333333 -1.034788      0.000000        -0.193580   \n",
       "16094           0.0       0.333333 -2.295398      0.000000        -0.817317   \n",
       "16095           0.0      -0.666667 -0.291834      0.000000        -0.817317   \n",
       "\n",
       "       forecast_cons_12m  forecast_discount_energy  forecast_meter_rent_12m  \\\n",
       "0               1.991987                       0.0                 1.406780   \n",
       "1               0.000000                       0.0                -0.978104   \n",
       "2              -1.198750                       0.0                -0.082621   \n",
       "3              -2.078946                       0.0                 0.325714   \n",
       "4              -1.048095                       0.0                 0.009266   \n",
       "...                  ...                       ...                      ...   \n",
       "16091           0.865850                       0.0                -0.021325   \n",
       "16092          -0.423995                       0.0                 0.960652   \n",
       "16093          -1.197261                       0.0                 0.909272   \n",
       "16094          -2.647038                       0.0                -0.448987   \n",
       "16095          -0.302530                       0.0                -1.122685   \n",
       "\n",
       "       forecast_price_energy_p1  forecast_price_energy_p2  \\\n",
       "0                     -1.530329                  0.022097   \n",
       "1                     -0.924658                  0.121200   \n",
       "2                      0.094365                 -0.871769   \n",
       "3                      0.749666                  0.017564   \n",
       "4                      0.126440                 -0.871769   \n",
       "...                         ...                       ...   \n",
       "16091                 -0.147290                 -0.871769   \n",
       "16092                 -1.391719                  0.057964   \n",
       "16093                 -0.845727                  0.140150   \n",
       "16094                  0.094365                 -0.871769   \n",
       "16095                  0.791823                  0.023180   \n",
       "\n",
       "       forecast_price_pow_p1  has_gas  imp_cons  margin_gross_pow_ele  \\\n",
       "0                   3.963793      0.0  0.539450              0.000000   \n",
       "1                  -1.000000      1.0 -0.708312              0.313853   \n",
       "2                   0.000000      0.0 -0.708312             -0.339827   \n",
       "3                   0.000000      0.0 -0.708312              0.541847   \n",
       "4                   0.000000      0.0 -0.708312              0.658730   \n",
       "...                      ...      ...       ...                   ...   \n",
       "16091               0.000000      1.0 -0.708312              0.489899   \n",
       "16092               3.963793      0.0 -0.183275             -1.521645   \n",
       "16093              -1.000000      0.0 -0.161494              1.352814   \n",
       "16094               0.000000      0.0 -0.708312             -0.577922   \n",
       "16095               0.269929      0.0 -0.708312             -0.667388   \n",
       "\n",
       "       margin_net_pow_ele  nb_prod_act  net_margin  origin_up   pow_max  \\\n",
       "0                0.000000          0.0    0.378568        0.0  0.622746   \n",
       "1                0.322511          1.0    2.658602        0.5  4.081096   \n",
       "2               -0.331169          0.0   -0.479091       -0.5 -0.007671   \n",
       "3                0.550505          0.0   -0.537510       -0.5  0.000000   \n",
       "4                0.667388          0.0   -0.447862       -0.5 -0.089863   \n",
       "...                   ...          ...         ...        ...       ...   \n",
       "16091            0.498557          1.0    1.245808        0.5  0.156712   \n",
       "16092           -1.512987          0.0   -0.139464        0.5 -1.076164   \n",
       "16093            1.361472          0.0   -0.472009        0.5  0.284795   \n",
       "16094           -0.569264          0.0   -0.564319        0.5 -0.391233   \n",
       "16095           -0.658730          0.0   -0.110943        0.0 -0.474521   \n",
       "\n",
       "       forecast_discount_energy_nan  forecast_price_energy_p1_nan  \\\n",
       "0                               0.0                           0.0   \n",
       "1                               0.0                           0.0   \n",
       "2                               0.0                           0.0   \n",
       "3                               0.0                           0.0   \n",
       "4                               0.0                           0.0   \n",
       "...                             ...                           ...   \n",
       "16091                           0.0                           0.0   \n",
       "16092                           0.0                           0.0   \n",
       "16093                           0.0                           0.0   \n",
       "16094                           0.0                           0.0   \n",
       "16095                           0.0                           0.0   \n",
       "\n",
       "       forecast_price_energy_p2_nan  forecast_price_pow_p1_nan  \\\n",
       "0                               0.0                        0.0   \n",
       "1                               0.0                        0.0   \n",
       "2                               0.0                        0.0   \n",
       "3                               0.0                        0.0   \n",
       "4                               0.0                        0.0   \n",
       "...                             ...                        ...   \n",
       "16091                           0.0                        0.0   \n",
       "16092                           0.0                        0.0   \n",
       "16093                           0.0                        0.0   \n",
       "16094                           0.0                        0.0   \n",
       "16095                           0.0                        0.0   \n",
       "\n",
       "       margin_gross_pow_ele_nan  margin_net_pow_ele_nan  net_margin_nan  \\\n",
       "0                           0.0                     0.0             0.0   \n",
       "1                           0.0                     0.0             0.0   \n",
       "2                           0.0                     0.0             0.0   \n",
       "3                           0.0                     0.0             0.0   \n",
       "4                           0.0                     0.0             0.0   \n",
       "...                         ...                     ...             ...   \n",
       "16091                       0.0                     0.0             0.0   \n",
       "16092                       0.0                     0.0             0.0   \n",
       "16093                       0.0                     0.0             0.0   \n",
       "16094                       0.0                     0.0             0.0   \n",
       "16095                       0.0                     0.0             0.0   \n",
       "\n",
       "       pow_max_nan  Length Of Contract (Year)  \n",
       "0              0.0                  -0.333333  \n",
       "1              0.0                  -0.666667  \n",
       "2              0.0                   0.666667  \n",
       "3              0.0                   0.333333  \n",
       "4              0.0                   0.333333  \n",
       "...            ...                        ...  \n",
       "16091          0.0                  -0.333333  \n",
       "16092          0.0                  -0.333333  \n",
       "16093          0.0                  -0.333333  \n",
       "16094          0.0                  -0.333333  \n",
       "16095          0.0                   0.666667  \n",
       "\n",
       "[16096 rows x 28 columns]"
      ]
     },
     "execution_count": 21,
     "metadata": {},
     "output_type": "execute_result"
    }
   ],
   "source": [
    "x_train"
   ]
  },
  {
   "cell_type": "markdown",
   "metadata": {},
   "source": [
    "Before building the model we will check the multicollinearity among the features with variance inflation factor"
   ]
  },
  {
   "cell_type": "code",
   "execution_count": 12,
   "metadata": {},
   "outputs": [],
   "source": [
    "from sklearn.preprocessing import StandardScaler\n",
    "scaler = StandardScaler()\n",
    "x_scaled = scaler.fit_transform(x_train)"
   ]
  },
  {
   "cell_type": "code",
   "execution_count": 36,
   "metadata": {},
   "outputs": [
    {
     "name": "stderr",
     "output_type": "stream",
     "text": [
      "C:\\Users\\DELL\\Anaconda\\lib\\site-packages\\statsmodels\\stats\\outliers_influence.py:193: RuntimeWarning: divide by zero encountered in double_scalars\n",
      "  vif = 1. / (1. - r_squared_i)\n"
     ]
    }
   ],
   "source": [
    "from statsmodels.stats.outliers_influence import variance_inflation_factor\n",
    "variables = x_scaled\n",
    "vif = pd.DataFrame()\n",
    "vif[\"VIF\"] = [variance_inflation_factor(variables,i) for i in range(variables.shape[1])]\n",
    "vif[\"Features\"]=x_train.columns"
   ]
  },
  {
   "cell_type": "code",
   "execution_count": 30,
   "metadata": {},
   "outputs": [],
   "source": [
    "to_drop = vif[vif[\"VIF\"]>5].Features.values"
   ]
  },
  {
   "cell_type": "code",
   "execution_count": 31,
   "metadata": {},
   "outputs": [],
   "source": [
    "x_train_new = x_train.drop(to_drop, axis=1)"
   ]
  },
  {
   "cell_type": "code",
   "execution_count": 33,
   "metadata": {},
   "outputs": [],
   "source": [
    "from sklearn.preprocessing import StandardScaler\n",
    "scaler_new = StandardScaler()\n",
    "x_scaled_new = scaler.fit_transform(x_train_new)"
   ]
  },
  {
   "cell_type": "code",
   "execution_count": 34,
   "metadata": {},
   "outputs": [],
   "source": [
    "from statsmodels.stats.outliers_influence import variance_inflation_factor\n",
    "variables = x_scaled_new\n",
    "vif = pd.DataFrame()\n",
    "vif[\"VIF\"] = [variance_inflation_factor(variables,i) for i in range(variables.shape[1])]\n",
    "vif[\"Features\"]=x_train_new.columns"
   ]
  },
  {
   "cell_type": "code",
   "execution_count": 39,
   "metadata": {},
   "outputs": [],
   "source": [
    "from sklearn.model_selection import train_test_split"
   ]
  },
  {
   "cell_type": "code",
   "execution_count": 40,
   "metadata": {},
   "outputs": [],
   "source": [
    "x_train, x_test, y_train, y_test = train_test_split(x_train_new, y_train, test_size=0.25,random_state=255)"
   ]
  },
  {
   "cell_type": "markdown",
   "metadata": {},
   "source": [
    "### Model Building  \n",
    "As this is a classification approach we will use two best known classifiers RandomForests and XG Boost. And then we will fine tune them"
   ]
  },
  {
   "cell_type": "code",
   "execution_count": 45,
   "metadata": {},
   "outputs": [],
   "source": [
    "from sklearn.ensemble import RandomForestClassifier\n",
    "from sklearn.model_selection import GridSearchCV, RandomizedSearchCV\n",
    "from sklearn.metrics import accuracy_score, confusion_matrix, roc_curve, roc_auc_score"
   ]
  },
  {
   "cell_type": "code",
   "execution_count": 43,
   "metadata": {},
   "outputs": [
    {
     "data": {
      "text/plain": [
       "RandomForestClassifier(random_state=6)"
      ]
     },
     "execution_count": 43,
     "metadata": {},
     "output_type": "execute_result"
    }
   ],
   "source": [
    "rand_clf = RandomForestClassifier(random_state=6)\n",
    "rand_clf.fit(x_train, y_train)"
   ]
  },
  {
   "cell_type": "code",
   "execution_count": 44,
   "metadata": {},
   "outputs": [
    {
     "data": {
      "text/plain": [
       "0.9003479125248509"
      ]
     },
     "execution_count": 44,
     "metadata": {},
     "output_type": "execute_result"
    }
   ],
   "source": [
    "rand_clf.score(x_test,y_test)"
   ]
  },
  {
   "cell_type": "code",
   "execution_count": 46,
   "metadata": {},
   "outputs": [],
   "source": [
    "hyperparameters = {\n",
    "    \"n_estimators\" : [90,100,115,130],\n",
    "    'criterion': ['gini', 'entropy'],\n",
    "    'max_depth' : range(2,20,1),\n",
    "    'min_samples_leaf' : range(1,10,1),\n",
    "    'min_samples_split': range(2,10,1),\n",
    "    'max_features' : ['auto','log2']\n",
    "}"
   ]
  },
  {
   "cell_type": "code",
   "execution_count": 48,
   "metadata": {},
   "outputs": [],
   "source": [
    "randomized_search = RandomizedSearchCV(rand_clf, hyperparameters, random_state=1, n_iter=100,cv=5,n_jobs=-1,verbose=0)"
   ]
  },
  {
   "cell_type": "code",
   "execution_count": 49,
   "metadata": {},
   "outputs": [
    {
     "data": {
      "text/plain": [
       "RandomizedSearchCV(cv=5, estimator=RandomForestClassifier(random_state=6),\n",
       "                   n_iter=100, n_jobs=-1,\n",
       "                   param_distributions={'criterion': ['gini', 'entropy'],\n",
       "                                        'max_depth': range(2, 20),\n",
       "                                        'max_features': ['auto', 'log2'],\n",
       "                                        'min_samples_leaf': range(1, 10),\n",
       "                                        'min_samples_split': range(2, 10),\n",
       "                                        'n_estimators': [90, 100, 115, 130]},\n",
       "                   random_state=1)"
      ]
     },
     "execution_count": 49,
     "metadata": {},
     "output_type": "execute_result"
    }
   ],
   "source": [
    "randomized_search.fit(x_train, y_train)"
   ]
  },
  {
   "cell_type": "code",
   "execution_count": 50,
   "metadata": {},
   "outputs": [
    {
     "data": {
      "text/plain": [
       "{'n_estimators': 100,\n",
       " 'min_samples_split': 8,\n",
       " 'min_samples_leaf': 1,\n",
       " 'max_features': 'log2',\n",
       " 'max_depth': 18,\n",
       " 'criterion': 'gini'}"
      ]
     },
     "execution_count": 50,
     "metadata": {},
     "output_type": "execute_result"
    }
   ],
   "source": [
    "randomized_search.best_params_"
   ]
  },
  {
   "cell_type": "code",
   "execution_count": 53,
   "metadata": {},
   "outputs": [
    {
     "data": {
      "text/plain": [
       "RandomForestClassifier(max_depth=18, max_features='log2', min_samples_split=8,\n",
       "                       random_state=6)"
      ]
     },
     "execution_count": 53,
     "metadata": {},
     "output_type": "execute_result"
    }
   ],
   "source": [
    "rand_clf = RandomForestClassifier(criterion= 'gini',\n",
    " max_features = 'log2',\n",
    " min_samples_leaf = 1,\n",
    " min_samples_split= 8,\n",
    " n_estimators = 100,max_depth=18,random_state=6)\n",
    "\n",
    "rand_clf.fit(x_train, y_train)"
   ]
  },
  {
   "cell_type": "code",
   "execution_count": 54,
   "metadata": {
    "scrolled": true
   },
   "outputs": [
    {
     "data": {
      "text/plain": [
       "0.8998508946322068"
      ]
     },
     "execution_count": 54,
     "metadata": {},
     "output_type": "execute_result"
    }
   ],
   "source": [
    "rand_clf.score(x_test, y_test)"
   ]
  },
  {
   "cell_type": "markdown",
   "metadata": {},
   "source": [
    "Even if the score of the model has decreased, but the model is mode stable the before.   \n",
    "Hyperparameter tuning does not improve the accuracy, it increases the stability of the model."
   ]
  },
  {
   "cell_type": "markdown",
   "metadata": {},
   "source": [
    "### Using XGBoost Classifier"
   ]
  },
  {
   "cell_type": "code",
   "execution_count": 57,
   "metadata": {},
   "outputs": [],
   "source": [
    "from xgboost import XGBClassifier"
   ]
  },
  {
   "cell_type": "code",
   "execution_count": 59,
   "metadata": {},
   "outputs": [
    {
     "name": "stderr",
     "output_type": "stream",
     "text": [
      "C:\\Users\\DELL\\Anaconda\\lib\\site-packages\\xgboost\\sklearn.py:1146: UserWarning: The use of label encoder in XGBClassifier is deprecated and will be removed in a future release. To remove this warning, do the following: 1) Pass option use_label_encoder=False when constructing XGBClassifier object; and 2) Encode your labels (y) as integers starting with 0, i.e. 0, 1, 2, ..., [num_class - 1].\n",
      "  warnings.warn(label_encoder_deprecation_msg, UserWarning)\n"
     ]
    },
    {
     "name": "stdout",
     "output_type": "stream",
     "text": [
      "[09:19:20] WARNING: C:/Users/Administrator/workspace/xgboost-win64_release_1.4.0/src/learner.cc:1095: Starting in XGBoost 1.3.0, the default evaluation metric used with the objective 'binary:logistic' was changed from 'error' to 'logloss'. Explicitly set eval_metric if you'd like to restore the old behavior.\n"
     ]
    },
    {
     "data": {
      "text/plain": [
       "XGBClassifier(base_score=0.5, booster='gbtree', colsample_bylevel=1,\n",
       "              colsample_bynode=1, colsample_bytree=1, gamma=0, gpu_id=-1,\n",
       "              importance_type='gain', interaction_constraints='',\n",
       "              learning_rate=0.300000012, max_delta_step=0, max_depth=6,\n",
       "              min_child_weight=1, missing=nan, monotone_constraints='()',\n",
       "              n_estimators=100, n_jobs=4, num_parallel_tree=1, random_state=0,\n",
       "              reg_alpha=0, reg_lambda=1, scale_pos_weight=1, subsample=1,\n",
       "              tree_method='exact', validate_parameters=1, verbosity=None)"
      ]
     },
     "execution_count": 59,
     "metadata": {},
     "output_type": "execute_result"
    }
   ],
   "source": [
    "xgb_model = XGBClassifier(objective=\"binary:logistic\")\n",
    "xgb_model.fit(x_train, y_train)"
   ]
  },
  {
   "cell_type": "code",
   "execution_count": 61,
   "metadata": {},
   "outputs": [
    {
     "data": {
      "text/plain": [
       "0.8996023856858847"
      ]
     },
     "execution_count": 61,
     "metadata": {},
     "output_type": "execute_result"
    }
   ],
   "source": [
    "xgb_model.score(x_test, y_test)"
   ]
  },
  {
   "cell_type": "code",
   "execution_count": 67,
   "metadata": {},
   "outputs": [],
   "source": [
    "hyperparameter_xgb={\n",
    "    'learning_rate':[1,0.5,0.1,0.01,0.001],\n",
    "    'max_depth': [3,5,10,20],\n",
    "    'n_estimators':[10,50,100,200]\n",
    "}"
   ]
  },
  {
   "cell_type": "code",
   "execution_count": 68,
   "metadata": {},
   "outputs": [],
   "source": [
    "randomized_search_xgb = RandomizedSearchCV(xgb_model, hyperparameter_xgb, random_state=1, n_iter=100,cv=5,n_jobs=-1,verbose=3)"
   ]
  },
  {
   "cell_type": "code",
   "execution_count": 69,
   "metadata": {},
   "outputs": [
    {
     "name": "stderr",
     "output_type": "stream",
     "text": [
      "C:\\Users\\DELL\\Anaconda\\lib\\site-packages\\sklearn\\model_selection\\_search.py:285: UserWarning: The total space of parameters 80 is smaller than n_iter=100. Running 80 iterations. For exhaustive searches, use GridSearchCV.\n",
      "  warnings.warn(\n"
     ]
    },
    {
     "name": "stdout",
     "output_type": "stream",
     "text": [
      "Fitting 5 folds for each of 80 candidates, totalling 400 fits\n"
     ]
    },
    {
     "name": "stderr",
     "output_type": "stream",
     "text": [
      "C:\\Users\\DELL\\Anaconda\\lib\\site-packages\\xgboost\\sklearn.py:1146: UserWarning: The use of label encoder in XGBClassifier is deprecated and will be removed in a future release. To remove this warning, do the following: 1) Pass option use_label_encoder=False when constructing XGBClassifier object; and 2) Encode your labels (y) as integers starting with 0, i.e. 0, 1, 2, ..., [num_class - 1].\n",
      "  warnings.warn(label_encoder_deprecation_msg, UserWarning)\n"
     ]
    },
    {
     "name": "stdout",
     "output_type": "stream",
     "text": [
      "[09:30:33] WARNING: C:/Users/Administrator/workspace/xgboost-win64_release_1.4.0/src/learner.cc:1095: Starting in XGBoost 1.3.0, the default evaluation metric used with the objective 'binary:logistic' was changed from 'error' to 'logloss'. Explicitly set eval_metric if you'd like to restore the old behavior.\n"
     ]
    },
    {
     "data": {
      "text/plain": [
       "RandomizedSearchCV(cv=5,\n",
       "                   estimator=XGBClassifier(base_score=0.5, booster='gbtree',\n",
       "                                           colsample_bylevel=1,\n",
       "                                           colsample_bynode=1,\n",
       "                                           colsample_bytree=1, gamma=0,\n",
       "                                           gpu_id=-1, importance_type='gain',\n",
       "                                           interaction_constraints='',\n",
       "                                           learning_rate=0.300000012,\n",
       "                                           max_delta_step=0, max_depth=6,\n",
       "                                           min_child_weight=1, missing=nan,\n",
       "                                           monotone_constraints='()',\n",
       "                                           n_estimators=100, n_jobs=4,\n",
       "                                           num_parallel_tree=1, random_state=0,\n",
       "                                           reg_alpha=0, reg_lambda=1,\n",
       "                                           scale_pos_weight=1, subsample=1,\n",
       "                                           tree_method='exact',\n",
       "                                           validate_parameters=1,\n",
       "                                           verbosity=None),\n",
       "                   n_iter=100, n_jobs=-1,\n",
       "                   param_distributions={'learning_rate': [1, 0.5, 0.1, 0.01,\n",
       "                                                          0.001],\n",
       "                                        'max_depth': [3, 5, 10, 20],\n",
       "                                        'n_estimators': [10, 50, 100, 200]},\n",
       "                   random_state=1, verbose=3)"
      ]
     },
     "execution_count": 69,
     "metadata": {},
     "output_type": "execute_result"
    }
   ],
   "source": [
    "randomized_search_xgb.fit(x_train, y_train)"
   ]
  },
  {
   "cell_type": "code",
   "execution_count": 70,
   "metadata": {},
   "outputs": [
    {
     "data": {
      "text/plain": [
       "{'n_estimators': 50, 'max_depth': 20, 'learning_rate': 0.1}"
      ]
     },
     "execution_count": 70,
     "metadata": {},
     "output_type": "execute_result"
    }
   ],
   "source": [
    "randomized_search_xgb.best_params_"
   ]
  },
  {
   "cell_type": "code",
   "execution_count": 73,
   "metadata": {},
   "outputs": [
    {
     "name": "stdout",
     "output_type": "stream",
     "text": [
      "[09:32:45] WARNING: C:/Users/Administrator/workspace/xgboost-win64_release_1.4.0/src/learner.cc:1095: Starting in XGBoost 1.3.0, the default evaluation metric used with the objective 'binary:logistic' was changed from 'error' to 'logloss'. Explicitly set eval_metric if you'd like to restore the old behavior.\n"
     ]
    },
    {
     "data": {
      "text/plain": [
       "XGBClassifier(base_score=0.5, booster='gbtree', colsample_bylevel=1,\n",
       "              colsample_bynode=1, colsample_bytree=1, gamma=0, gpu_id=-1,\n",
       "              importance_type='gain', interaction_constraints='',\n",
       "              learning_rate=0.1, max_delta_step=0, max_depth=20,\n",
       "              min_child_weight=1, missing=nan, monotone_constraints='()',\n",
       "              n_estimators=50, n_jobs=4, num_parallel_tree=1, random_state=0,\n",
       "              reg_alpha=0, reg_lambda=1, scale_pos_weight=1, subsample=1,\n",
       "              tree_method='exact', validate_parameters=1, verbosity=None)"
      ]
     },
     "execution_count": 73,
     "metadata": {},
     "output_type": "execute_result"
    }
   ],
   "source": [
    "new_model=XGBClassifier(learning_rate= 0.1, max_depth= 20, n_estimators= 50)\n",
    "new_model.fit(x_train, y_train)"
   ]
  },
  {
   "cell_type": "code",
   "execution_count": 74,
   "metadata": {},
   "outputs": [
    {
     "data": {
      "text/plain": [
       "0.9005964214711729"
      ]
     },
     "execution_count": 74,
     "metadata": {},
     "output_type": "execute_result"
    }
   ],
   "source": [
    "new_model.score(x_test, y_test)"
   ]
  },
  {
   "cell_type": "markdown",
   "metadata": {},
   "source": [
    "We achieved 90% accuracy with XGB Classifier which is better than RandomForests and also our model is not overfitted, so we will use XGB Classifier"
   ]
  },
  {
   "cell_type": "markdown",
   "metadata": {},
   "source": [
    "Save the model"
   ]
  },
  {
   "cell_type": "code",
   "execution_count": 75,
   "metadata": {},
   "outputs": [],
   "source": [
    "import pickle"
   ]
  },
  {
   "cell_type": "code",
   "execution_count": 76,
   "metadata": {},
   "outputs": [],
   "source": [
    "filename = \"xgb_model.pickle\"\n",
    "pickle.dump(new_model, open(filename, \"wb\"))"
   ]
  },
  {
   "cell_type": "code",
   "execution_count": null,
   "metadata": {},
   "outputs": [],
   "source": []
  }
 ],
 "metadata": {
  "kernelspec": {
   "display_name": "Python 3",
   "language": "python",
   "name": "python3"
  },
  "language_info": {
   "codemirror_mode": {
    "name": "ipython",
    "version": 3
   },
   "file_extension": ".py",
   "mimetype": "text/x-python",
   "name": "python",
   "nbconvert_exporter": "python",
   "pygments_lexer": "ipython3",
   "version": "3.8.5"
  }
 },
 "nbformat": 4,
 "nbformat_minor": 4
}
